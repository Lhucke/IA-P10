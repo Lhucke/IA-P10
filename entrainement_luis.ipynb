{
 "cells": [
  {
   "cell_type": "markdown",
   "id": "b66385d6",
   "metadata": {},
   "source": [
    "### Import données et librairies"
   ]
  },
  {
   "cell_type": "code",
   "execution_count": 20,
   "id": "bba4b470",
   "metadata": {},
   "outputs": [],
   "source": [
    "from azure.cognitiveservices.language.luis.authoring import LUISAuthoringClient\n",
    "from azure.cognitiveservices.language.luis.authoring.models import ApplicationCreateObject\n",
    "from azure.cognitiveservices.language.luis.runtime import LUISRuntimeClient\n",
    "from msrest.authentication import CognitiveServicesCredentials\n",
    "from functools import reduce\n",
    "\n",
    "from sklearn.model_selection import train_test_split\n",
    "from dotenv import load_dotenv\n",
    "import os\n",
    "import pandas as pd\n",
    "import json, time"
   ]
  },
  {
   "cell_type": "code",
   "execution_count": 2,
   "id": "3a97bc0d",
   "metadata": {},
   "outputs": [],
   "source": [
    "data = pd.read_json(\"../1-Données/frames.json\")"
   ]
  },
  {
   "cell_type": "markdown",
   "id": "083969cd",
   "metadata": {},
   "source": [
    "### Création LUIS"
   ]
  },
  {
   "cell_type": "code",
   "execution_count": 22,
   "id": "b0b35220",
   "metadata": {},
   "outputs": [],
   "source": [
    "load_dotenv(\"../../.env\")\n",
    "authoringKey = os.environ['authoringKey']\n",
    "authoringEndpoint = os.environ['authoringEndpoint']\n",
    "predictionKey = os.environ['predictionKey']\n",
    "predictionEndpoint = os.environ['predictionEndpoint']"
   ]
  },
  {
   "cell_type": "code",
   "execution_count": 7,
   "id": "885ed755",
   "metadata": {},
   "outputs": [],
   "source": [
    "# We use a UUID to avoid name collisions.\n",
    "appName = \"Language Detection\"\n",
    "versionId = \"1.0\"\n",
    "intentName = \"OrderTrip\""
   ]
  },
  {
   "cell_type": "code",
   "execution_count": 8,
   "id": "3e9bb6dd",
   "metadata": {},
   "outputs": [
    {
     "data": {
      "text/plain": [
       "<azure.cognitiveservices.language.luis.authoring._luis_authoring_client.LUISAuthoringClient at 0x1d9ce396ca0>"
      ]
     },
     "execution_count": 8,
     "metadata": {},
     "output_type": "execute_result"
    }
   ],
   "source": [
    "client = LUISAuthoringClient(authoringEndpoint, CognitiveServicesCredentials(authoringKey))\n",
    "client"
   ]
  },
  {
   "cell_type": "code",
   "execution_count": 9,
   "id": "2268d7b4",
   "metadata": {},
   "outputs": [
    {
     "data": {
      "text/plain": [
       "<azure.cognitiveservices.language.luis.authoring.models._models_py3.ApplicationInfoResponse at 0x1d9d2dbec10>"
      ]
     },
     "execution_count": 9,
     "metadata": {},
     "output_type": "execute_result"
    }
   ],
   "source": [
    "define app basics\n",
    "appDefinition = ApplicationCreateObject (name=appName, initial_version_id=versionId, culture='en-us')\n",
    "\n",
    "create app\n",
    "app_id = client.apps.add(appDefinition)\n",
    "\n",
    "get app id - necessary for all other changes\n",
    "print(\"Created LUIS app with ID {}\".format(app_id))\n",
    "\n",
    "# app_id = \"9cf1e5a9-564c-42ab-aed9-00fae5aa1513\"\n",
    "# client.apps.get(app_id=app_id)"
   ]
  },
  {
   "cell_type": "code",
   "execution_count": 19,
   "id": "1030d2ef",
   "metadata": {},
   "outputs": [
    {
     "data": {
      "text/plain": [
       "'d04800f7-12e0-47f3-a739-6f808f655b10'"
      ]
     },
     "execution_count": 19,
     "metadata": {},
     "output_type": "execute_result"
    }
   ],
   "source": [
    "client.model.add_intent(app_id, versionId, intentName)"
   ]
  },
  {
   "cell_type": "code",
   "execution_count": 4,
   "id": "463f26d3",
   "metadata": {},
   "outputs": [],
   "source": [
    "ls_entities = [\n",
    "    \"or_city\",\n",
    "    \"dst_city\",\n",
    "    \"str_date\",\n",
    "    \"end_date\",\n",
    "    \"budget\"\n",
    "]\n",
    "\n",
    "for ent in ls_entities:\n",
    "    client.model.add_entity(app_id, versionId, name=ent)"
   ]
  },
  {
   "cell_type": "markdown",
   "id": "2e1d6d61",
   "metadata": {},
   "source": [
    "### Entraînement LUIS"
   ]
  },
  {
   "cell_type": "code",
   "execution_count": 16,
   "id": "1634c3b4",
   "metadata": {},
   "outputs": [],
   "source": [
    "# Formatage des données d'entrée pour LUIS\n",
    "def get_turn_entities(data, index, ls_entities):\n",
    "    luis_data = []\n",
    "    conversation = data[\"turns\"][index][0]\n",
    "    \n",
    "    json_part = {}\n",
    "    txt = conversation[\"text\"].lower()\n",
    "    json_part[\"text\"] = txt\n",
    "    json_part[\"intentName\"] = intentName\n",
    "    # Nous n'utiliserons que ce qu'ont\n",
    "    # écrit les utilisateurs\n",
    "    if conversation[\"author\"] == \"user\":\n",
    "        for act in conversation[\"labels\"][\"acts\"]:\n",
    "            entities = []\n",
    "            for arg in act[\"args\"]:\n",
    "                if arg[\"key\"] in ls_entities:\n",
    "                    entity = {}\n",
    "                    key = arg[\"key\"].lower()\n",
    "                    if \"val\" in arg.keys():\n",
    "                        val = arg[\"val\"].lower()\n",
    "                        if val != \"-1\":\n",
    "                            startCharIndex = txt.index(val)\n",
    "                            endCharIndex = startCharIndex + len(val)\n",
    "                            entity[\"entityName\"] = key\n",
    "                            entity[\"startCharIndex\"] = startCharIndex\n",
    "                            entity[\"endCharIndex\"] = endCharIndex\n",
    "                            entities.append(entity)\n",
    "            json_part[\"entityLabels\"] = entities\n",
    "\n",
    "    if (len(json_part)>0):\n",
    "            if \"entityLabels\" in json_part.keys():\n",
    "                if len(json_part[\"entityLabels\"])>0:\n",
    "                    luis_data.append(json_part)\n",
    "    return luis_data\n",
    "\n",
    "def convert_data(data, ls_entities):\n",
    "    luis_data = []\n",
    "    for i in range(data.shape[0]):\n",
    "        json_part = get_turn_entities(data, i, ls_entities)\n",
    "        if len(json_part)>0:\n",
    "            for j in range(len(json_part)):\n",
    "                luis_data.append(json_part[j])\n",
    "    return luis_data\n",
    "\n",
    "\n",
    "# pour convertir les données pour LUIS :\n",
    "luis_data = convert_data(data, ls_entities)"
   ]
  },
  {
   "cell_type": "code",
   "execution_count": 18,
   "id": "ded559a9",
   "metadata": {},
   "outputs": [],
   "source": [
    "luis_data_train, luis_data_test = train_test_split(luis_data, test_size=0.2, random_state=42)"
   ]
  },
  {
   "cell_type": "code",
   "execution_count": 38,
   "id": "5500871b",
   "metadata": {},
   "outputs": [],
   "source": [
    "# On ajoute les requêtes par paquet de 100\n",
    "for i in range(0, len(luis_data_train), 100):\n",
    "    client.examples.batch(\n",
    "        app_id=app_id,\n",
    "        version_id=versionId,\n",
    "        example_label_object_array=luis_data_train[i : i + 100],\n",
    "        )\n"
   ]
  },
  {
   "cell_type": "code",
   "execution_count": 39,
   "id": "33641f87",
   "metadata": {},
   "outputs": [
    {
     "name": "stdout",
     "output_type": "stream",
     "text": [
      "Waiting 10 seconds for training to complete...\n",
      "Waiting 10 seconds for training to complete...\n",
      "trained\n"
     ]
    }
   ],
   "source": [
    "client.train.train_version(app_id, versionId)\n",
    "waiting = True\n",
    "while waiting:\n",
    "    info = client.train.get_status(app_id, versionId)\n",
    "\n",
    "    # get_status returns a list of training statuses, one for each model. Loop through them and make sure all are done.\n",
    "    waiting = any(map(lambda x: 'Queued' == x.details.status or 'InProgress' == x.details.status, info))\n",
    "    if waiting:\n",
    "        print (\"Waiting 10 seconds for training to complete...\")\n",
    "        time.sleep(10)\n",
    "    else: \n",
    "        print (\"trained\")\n",
    "        waiting = False"
   ]
  },
  {
   "cell_type": "code",
   "execution_count": 40,
   "id": "53de80b4",
   "metadata": {},
   "outputs": [],
   "source": [
    "# Publication\n",
    "client.apps.update_settings(app_id, is_public=True)\n",
    "\n",
    "responseEndpointInfo = client.apps.publish(app_id, versionId, is_staging=False)"
   ]
  },
  {
   "cell_type": "markdown",
   "id": "5a3ea0b6",
   "metadata": {},
   "source": [
    "### Prédictions LUIS"
   ]
  },
  {
   "cell_type": "code",
   "execution_count": 5,
   "id": "853c973b",
   "metadata": {},
   "outputs": [],
   "source": [
    "runtimeCredentials = CognitiveServicesCredentials(predictionKey)\n",
    "clientRuntime = LUISRuntimeClient(endpoint=predictionEndpoint, credentials=runtimeCredentials)"
   ]
  },
  {
   "cell_type": "code",
   "execution_count": 40,
   "id": "3e3b0328",
   "metadata": {},
   "outputs": [
    {
     "data": {
      "text/plain": [
       "<azure.cognitiveservices.language.luis.runtime.models._models_py3.PredictionResponse at 0x1d994420d60>"
      ]
     },
     "execution_count": 40,
     "metadata": {},
     "output_type": "execute_result"
    }
   ],
   "source": [
    "text = \"i have 11 days for vacation this year! i only have $400 to spend tho. i leave from santiago. what kind of packages are there?\"\n",
    "predictionRequest = { \"query\" : text }\n",
    "\n",
    "predictionResponse = clientRuntime.prediction.get_slot_prediction(app_id, \"Production\", predictionRequest)\n",
    "predictionResponse"
   ]
  },
  {
   "cell_type": "code",
   "execution_count": 41,
   "id": "c7c8efca",
   "metadata": {},
   "outputs": [
    {
     "data": {
      "text/plain": [
       "{'OrderTrip': <azure.cognitiveservices.language.luis.runtime.models._models_py3.Intent at 0x1d9942a89d0>}"
      ]
     },
     "execution_count": 41,
     "metadata": {},
     "output_type": "execute_result"
    }
   ],
   "source": [
    "predictionResponse.prediction.intents"
   ]
  },
  {
   "cell_type": "code",
   "execution_count": 42,
   "id": "6ec2d721",
   "metadata": {},
   "outputs": [
    {
     "data": {
      "text/plain": [
       "{'budget': ['$400'], 'or_city': ['santiago.']}"
      ]
     },
     "execution_count": 42,
     "metadata": {},
     "output_type": "execute_result"
    }
   ],
   "source": [
    "predictionResponse.prediction.entities"
   ]
  },
  {
   "cell_type": "code",
   "execution_count": 46,
   "id": "7aa2b188",
   "metadata": {},
   "outputs": [],
   "source": [
    "# Prédictions de notre jeu de test\n",
    "list_text = []\n",
    "list_real_entity_budget = []\n",
    "list_real_entity_or_city = []\n",
    "list_real_entity_dst_city = []\n",
    "list_real_entity_str_date = []\n",
    "list_real_entity_end_date = []\n",
    "list_predicted_entity_budget = []\n",
    "list_predicted_entity_or_city = []\n",
    "list_predicted_entity_dst_city = []\n",
    "list_predicted_entity_str_date = []\n",
    "list_predicted_entity_end_date = []\n",
    "\n",
    "# Boucle sur données de test\n",
    "for sample in luis_data_test:\n",
    "    # Texte\n",
    "    text = sample[\"text\"]\n",
    "    list_text.append(text)\n",
    "    \n",
    "    # Entités\n",
    "    entities = sample['entityLabels']\n",
    "    \n",
    "    # Entités attendues    \n",
    "    or_city = False\n",
    "    dst_city = False\n",
    "    str_date = False\n",
    "    end_date = False\n",
    "    budget = False\n",
    "    for ent in entities:\n",
    "        entity = ent['entityName']\n",
    "        if entity == \"or_city\":\n",
    "            list_real_entity_or_city.append(text[ent['startCharIndex']:ent['endCharIndex']])\n",
    "            or_city = True\n",
    "        if entity == \"dst_city\":\n",
    "            list_real_entity_dst_city.append(text[ent['startCharIndex']:ent['endCharIndex']])\n",
    "            dst_city =  True\n",
    "        if entity == \"str_date\":\n",
    "            list_real_entity_str_date.append(text[ent['startCharIndex']:ent['endCharIndex']])\n",
    "            str_date = True\n",
    "        if entity == \"end_date\":\n",
    "            list_real_entity_end_date.append(text[ent['startCharIndex']:ent['endCharIndex']])\n",
    "            end_date =  True\n",
    "        if entity == \"budget\":\n",
    "            list_real_entity_budget.append(text[ent['startCharIndex']:ent['endCharIndex']])\n",
    "            budget =  True\n",
    "    if not or_city:\n",
    "        list_real_entity_or_city.append(0)\n",
    "    if not dst_city:\n",
    "        list_real_entity_dst_city.append(0)\n",
    "    if not str_date:\n",
    "        list_real_entity_str_date.append(0)\n",
    "    if not end_date:\n",
    "        list_real_entity_end_date.append(0)\n",
    "    if not budget:\n",
    "        list_real_entity_budget.append(0)   \n",
    "    \n",
    "    # Prédiction\n",
    "    predictionRequest = { \"query\" : text }\n",
    "    predictionResponse = clientRuntime.prediction.get_slot_prediction(app_id, \"Production\", predictionRequest)\n",
    "    response = predictionResponse.prediction.entities\n",
    "    \n",
    "    # Entités prédites  \n",
    "    for ent in ls_entities:        \n",
    "        if ent == \"or_city\":\n",
    "            try:\n",
    "                list_predicted_entity_or_city.append(response[ent][0].lower())\n",
    "            except KeyError:\n",
    "                list_predicted_entity_or_city.append(0)\n",
    "        if ent == \"dst_city\":\n",
    "            try:\n",
    "                list_predicted_entity_dst_city.append(response[ent][0].lower())\n",
    "            except KeyError:\n",
    "                list_predicted_entity_dst_city.append(0)\n",
    "        if ent == \"str_date\":\n",
    "            try:\n",
    "                list_predicted_entity_str_date.append(response[ent][0].lower())\n",
    "            except KeyError:\n",
    "                list_predicted_entity_str_date.append(0)\n",
    "        if ent == \"end_date\":\n",
    "            try:\n",
    "                list_predicted_entity_end_date.append(response[ent][0].lower())\n",
    "            except KeyError:\n",
    "                list_predicted_entity_end_date.append(0)\n",
    "        if ent == \"budget\":\n",
    "            try:\n",
    "                list_predicted_entity_budget.append(response[ent][0].lower())\n",
    "            except KeyError:\n",
    "                list_predicted_entity_budget.append(0)\n",
    "\n",
    "# Construction du dataframe et enregistrement des résultats dans un fichier csv\n",
    "df_results = pd.DataFrame(list(zip(list_text, list_real_entity_or_city, list_real_entity_dst_city,\n",
    "                                   list_real_entity_str_date, list_real_entity_end_date,\n",
    "                                   list_real_entity_budget, list_predicted_entity_or_city,\n",
    "                                  list_predicted_entity_dst_city, list_predicted_entity_str_date,\n",
    "                                   list_predicted_entity_end_date, list_predicted_entity_budget)),\n",
    "               columns =['text', 'real_or_city ', 'real_dst_city', 'real_str_date', 'real_end_date', 'real_budget',\n",
    "                         'predicted_or_city ', 'predicted_dst_city', 'predicted_str_date', 'predicted_end_date', 'predicted_budget'])\n",
    "df_results.to_csv('luis_results.csv', index=False, sep=\";\")"
   ]
  },
  {
   "cell_type": "code",
   "execution_count": 10,
   "id": "eb246809",
   "metadata": {},
   "outputs": [],
   "source": [
    "# Chargement des résultats\n",
    "df_results = pd.read_csv('luis_results.csv', sep=\";\")"
   ]
  },
  {
   "cell_type": "code",
   "execution_count": 7,
   "id": "e4e41374",
   "metadata": {},
   "outputs": [],
   "source": [
    "# Rappel\n",
    "def entity_recall(df, num_col):\n",
    "    vpfn = 0\n",
    "    vp = 0\n",
    "    for i in range(len(df)):\n",
    "        if df.iloc[i,num_col] != 0:\n",
    "            vpfn = vpfn + 1\n",
    "            if df.iloc[i,num_col] ==  df.iloc[i,num_col+5]:\n",
    "                vp = vp + 1\n",
    "    return (vp/vpfn)"
   ]
  },
  {
   "cell_type": "code",
   "execution_count": 16,
   "id": "114715fa",
   "metadata": {},
   "outputs": [
    {
     "name": "stdout",
     "output_type": "stream",
     "text": [
      "Rappels :\n",
      "Ville de départ :0.77\n",
      "Ville de destination :0.67\n",
      "Date aller souhaitée du vol :0.77\n",
      "Date retour souhaitée du vol :0.9\n",
      "Budget maximum pour le prix total des billets :0.91\n"
     ]
    }
   ],
   "source": [
    "# Calcul des rappels de chanque entité\n",
    "print(\"Rappels :\")\n",
    "rc_or_city = entity_recall(df_results, 1)\n",
    "print(\"Ville de départ :\"+str(round(rc_or_city,2)))\n",
    "rc_dst_city = entity_recall(df_results, 2)\n",
    "print(\"Ville de destination :\"+str(round(rc_dst_city,2)))\n",
    "rc_str_date = entity_recall(df_results, 3)\n",
    "print(\"Date aller souhaitée du vol :\"+str(round(rc_or_city,2)))\n",
    "rc_end_date = entity_recall(df_results, 4)\n",
    "print(\"Date retour souhaitée du vol :\"+str(round(rc_end_date,2)))\n",
    "rc_budget = entity_recall(df_results, 5)\n",
    "print(\"Budget maximum pour le prix total des billets :\"+str(round(rc_budget,2)))"
   ]
  },
  {
   "cell_type": "code",
   "execution_count": null,
   "id": "2aae9470",
   "metadata": {},
   "outputs": [],
   "source": []
  }
 ],
 "metadata": {
  "kernelspec": {
   "display_name": "Python 3 (ipykernel)",
   "language": "python",
   "name": "python3"
  },
  "language_info": {
   "codemirror_mode": {
    "name": "ipython",
    "version": 3
   },
   "file_extension": ".py",
   "mimetype": "text/x-python",
   "name": "python",
   "nbconvert_exporter": "python",
   "pygments_lexer": "ipython3",
   "version": "3.9.12"
  }
 },
 "nbformat": 4,
 "nbformat_minor": 5
}
